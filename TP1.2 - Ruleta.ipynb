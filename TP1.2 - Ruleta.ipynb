{
 "nbformat": 4,
 "nbformat_minor": 2,
 "metadata": {
  "language_info": {
   "name": "python",
   "codemirror_mode": {
    "name": "ipython",
    "version": 3
   },
   "version": "3.7.3-final"
  },
  "orig_nbformat": 2,
  "file_extension": ".py",
  "mimetype": "text/x-python",
  "name": "python",
  "npconvert_exporter": "python",
  "pygments_lexer": "ipython3",
  "version": 3,
  "kernelspec": {
   "name": "python3",
   "display_name": "Python 3"
  }
 },
 "cells": [
  {
   "cell_type": "markdown",
   "metadata": {},
   "source": [
    "# TP1.2 Ruleta\n",
    "## Se busca simular apuestas, a traves de distintas estrategias"
   ]
  },
  {
   "cell_type": "markdown",
   "metadata": {},
   "source": [
    "## Importacion de librerias"
   ]
  },
  {
   "cell_type": "code",
   "execution_count": 3,
   "metadata": {},
   "outputs": [],
   "source": [
    "import numpy as np \n",
    "import matplotlib.pyplot as plt"
   ]
  },
  {
   "cell_type": "markdown",
   "metadata": {},
   "source": [
    "## Establecimiento de variables"
   ]
  },
  {
   "cell_type": "code",
   "execution_count": 53,
   "metadata": {},
   "outputs": [
    {
     "output_type": "stream",
     "name": "stdout",
     "text": "[0]\n[1, 3, 5, 7, 9, 12, 14, 16, 18, 19, 21, 23, 25, 27, 30, 32, 34, 36]\n[2, 4, 6, 8, 10, 11, 13, 15, 17, 20, 22, 24, 26, 28, 29, 31, 33, 35]\nTrue\n"
    }
   ],
   "source": [
    "tm = 10      # tiradas maximas\n",
    "ap_min = 10     # apuesta a realizar\n",
    "vi = 0          # valor inicial ruleta\n",
    "vf = 36         # valor final ruleta\n",
    "\n",
    "# colecciones por color\n",
    "\n",
    "green = [0]\n",
    "black = []\n",
    "red = []\n",
    "\n",
    "for i in range(1,vf +1):\n",
    "    if i < 11:\n",
    "        if i % 2 == 0:\n",
    "            black.append(i)\n",
    "        if i % 2 != 0:\n",
    "            red.append(i)\n",
    "    if i > 10 and i < 19:\n",
    "        if i % 2 == 0:\n",
    "            red.append(i)\n",
    "        if i % 2 != 0:\n",
    "            black.append(i)\n",
    "    if i > 18 and i < 29:\n",
    "        if i % 2 == 0:\n",
    "            black.append(i)\n",
    "        if i % 2 != 0:\n",
    "            red.append(i)\n",
    "    if i > 28 and i < 37:\n",
    "        if i % 2 == 0:\n",
    "            red.append(i)\n",
    "        if i % 2 != 0:\n",
    "            black.append(i)\n",
    "\n",
    "print(green)\n",
    "print(red)\n",
    "print(black)\n",
    "print(isinstance(black, list))"
   ]
  },
  {
   "cell_type": "markdown",
   "metadata": {},
   "source": [
    "## Experimento Martingala"
   ]
  },
  {
   "cell_type": "markdown",
   "metadata": {},
   "source": [
    "### Capital limitado"
   ]
  },
  {
   "cell_type": "code",
   "execution_count": 55,
   "metadata": {},
   "outputs": [
    {
     "output_type": "stream",
     "name": "stdout",
     "text": "1900\n"
    }
   ],
   "source": [
    "cap = 2000          # capital inicial\n",
    "val_ap = 1      # apuesta a realizar\n",
    "\n",
    "for i in range(1, tm + 1):\n",
    "    nro_random = np.random.randint(vi, vf +1)\n",
    "    ap_ganada = False\n",
    "\n",
    "    if isinstance(val_ap, list) == True:\n",
    "        if val_ap == 'red':\n",
    "            for i in red:\n",
    "                if i == nro_random:\n",
    "                    ap_ganada = True\n",
    "\n",
    "        elif val_ap == 'black':\n",
    "            for i in black:\n",
    "                if i == nro_random:\n",
    "                    ap_ganada = True\n",
    "    \n",
    "        if ap_ganada == True:\n",
    "            cap += ap_min\n",
    "        else:\n",
    "            cap -= ap_min\n",
    "\n",
    "    else:\n",
    "        if val_ap == nro_random:\n",
    "            ap_ganada = True\n",
    "\n",
    "    if ap_ganada == True:\n",
    "        cap += 35 * ap_min\n",
    "    else:\n",
    "        cap -= ap_min \n",
    "\n",
    "print(cap)\n",
    "\n",
    ""
   ]
  },
  {
   "cell_type": "code",
   "execution_count": null,
   "metadata": {},
   "outputs": [],
   "source": []
  }
 ]
}