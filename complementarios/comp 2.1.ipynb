{
 "cells": [
  {
   "cell_type": "markdown",
   "metadata": {},
   "source": [
    "### Metodo Blum Blum Shub"
   ]
  },
  {
   "cell_type": "code",
   "execution_count": 7,
   "metadata": {},
   "outputs": [],
   "source": [
    "def bbs(s, p, q, m):\n",
    "    print(\"Blum Blum Shub\")\n",
    "    num_list = []\n",
    "    for i in range(m):\n",
    "        res = (s ** 2) % (p * q)\n",
    "        num_list.append(res/1000)\n",
    "        s = res\n",
    "    return(num_list)"
   ]
  },
  {
   "cell_type": "code",
   "execution_count": 8,
   "metadata": {},
   "outputs": [
    {
     "output_type": "stream",
     "name": "stdout",
     "text": "Blum Blum Shub\n[0.009, 0.081, 0.082, 0.036, 0.042, 0.092, 0.104, 0.157, 0.196, 0.169, 0.137, 0.168, 0.009, 0.081, 0.082, 0.036, 0.042, 0.092, 0.104, 0.157, 0.196, 0.169, 0.137, 0.168, 0.009, 0.081, 0.082, 0.036, 0.042, 0.092, 0.104, 0.157, 0.196, 0.169, 0.137, 0.168, 0.009, 0.081, 0.082, 0.036, 0.042, 0.092, 0.104, 0.157, 0.196, 0.169, 0.137, 0.168, 0.009, 0.081, 0.082, 0.036, 0.042, 0.092, 0.104, 0.157, 0.196, 0.169, 0.137, 0.168, 0.009, 0.081, 0.082, 0.036, 0.042, 0.092, 0.104, 0.157, 0.196, 0.169, 0.137, 0.168, 0.009, 0.081, 0.082, 0.036, 0.042, 0.092, 0.104, 0.157, 0.196, 0.169, 0.137, 0.168, 0.009, 0.081, 0.082, 0.036, 0.042, 0.092, 0.104, 0.157, 0.196, 0.169, 0.137, 0.168, 0.009, 0.081, 0.082, 0.036]\n"
    }
   ],
   "source": [
    "bbs_test = bbs(3, 11, 19, 100)\n",
    "print(bbs_test)"
   ]
  },
  {
   "cell_type": "code",
   "execution_count": 3,
   "metadata": {},
   "outputs": [
    {
     "output_type": "error",
     "ename": "NameError",
     "evalue": "name 'np' is not defined",
     "traceback": [
      "\u001b[1;31m---------------------------------------------------------------------------\u001b[0m",
      "\u001b[1;31mNameError\u001b[0m                                 Traceback (most recent call last)",
      "\u001b[1;32m<ipython-input-3-857532b73d8b>\u001b[0m in \u001b[0;36m<module>\u001b[1;34m\u001b[0m\n\u001b[1;32m----> 1\u001b[1;33m \u001b[0mbbs_mean\u001b[0m \u001b[1;33m=\u001b[0m \u001b[0mnp\u001b[0m\u001b[1;33m.\u001b[0m\u001b[0mmean\u001b[0m\u001b[1;33m(\u001b[0m\u001b[0mbbs_test\u001b[0m\u001b[1;33m)\u001b[0m\u001b[1;33m\u001b[0m\u001b[1;33m\u001b[0m\u001b[0m\n\u001b[0m\u001b[0;32m      2\u001b[0m \u001b[0mbbs_min\u001b[0m \u001b[1;33m=\u001b[0m \u001b[0mnp\u001b[0m\u001b[1;33m.\u001b[0m\u001b[0mmin\u001b[0m\u001b[1;33m(\u001b[0m\u001b[0mbbs_test\u001b[0m\u001b[1;33m)\u001b[0m\u001b[1;33m\u001b[0m\u001b[1;33m\u001b[0m\u001b[0m\n\u001b[0;32m      3\u001b[0m \u001b[0mbbs_max\u001b[0m \u001b[1;33m=\u001b[0m \u001b[0mnp\u001b[0m\u001b[1;33m.\u001b[0m\u001b[0mmax\u001b[0m\u001b[1;33m(\u001b[0m\u001b[0mbbs_test\u001b[0m\u001b[1;33m)\u001b[0m\u001b[1;33m\u001b[0m\u001b[1;33m\u001b[0m\u001b[0m\n\u001b[0;32m      4\u001b[0m \u001b[0mbbs_var\u001b[0m \u001b[1;33m=\u001b[0m \u001b[0mnp\u001b[0m\u001b[1;33m.\u001b[0m\u001b[0mvar\u001b[0m\u001b[1;33m(\u001b[0m\u001b[0mbbs_test\u001b[0m\u001b[1;33m)\u001b[0m\u001b[1;33m\u001b[0m\u001b[1;33m\u001b[0m\u001b[0m\n\u001b[0;32m      5\u001b[0m \u001b[1;33m\u001b[0m\u001b[0m\n",
      "\u001b[1;31mNameError\u001b[0m: name 'np' is not defined"
     ]
    }
   ],
   "source": [
    "bbs_mean = np.mean(bbs_test)\n",
    "bbs_min = np.min(bbs_test)\n",
    "bbs_max = np.max(bbs_test)\n",
    "bbs_var = np.var(bbs_test)\n",
    "\n",
    "print(\"Media: \", bbs_mean)\n",
    "print(\"Valor minimo: \", bbs_min)\n",
    "print(\"Valor maximo: \", bbs_max)\n",
    "print(\"Varianza: \", bbs_var)"
   ]
  },
  {
   "cell_type": "markdown",
   "metadata": {},
   "source": [
    "### Metodo Rand"
   ]
  },
  {
   "cell_type": "code",
   "execution_count": 14,
   "metadata": {},
   "outputs": [],
   "source": [
    "def rand(seed, m):\n",
    "    num_list = []\n",
    "\n",
    "    for i in range(m):\n",
    "        res = ((7 ** 5) * seed ) % ((2 ** 31) - 1)\n",
    "        num_list.append(res/10000000000)\n",
    "        seed = res\n",
    "    return(num_list)"
   ]
  },
  {
   "cell_type": "code",
   "execution_count": 15,
   "metadata": {},
   "outputs": [
    {
     "output_type": "stream",
     "name": "stdout",
     "text": "[2.52105e-05, 0.2089645088, 0.0717430978, 0.1889252988, 0.2129248421, 0.0610718139, 0.151541316, 0.03929267, 0.0406832375, 0.0043794577, 0.1616048365, 0.1699186946, 0.0997463616, 0.111364563, 0.1722119805, 0.2030452016, 0.0144398435, 0.0247975935, 0.1613264365, 0.0005655533, 0.0563262663, 0.0647661065, 0.1792396459, 0.2054169944, 0.1487139636, 0.1941178466, 0.0814912838, 0.1736851347, 0.0515375358, 0.1112093555, 0.1406199044, 0.0929797273, 0.2011751739, 0.1528939005, 0.0088537033, 0.1983229907, 0.1051361862, 0.0743367118, 0.1858777627, 0.103096408, 0.1515228564, 0.1585389022, 0.1803684425, 0.0644969923, 0.1659529452, 0.0193892528, 0.1019025597, 0.0581123954, 0.0194668322, 0.1172893473, 0.1068204898, 0.0356431766, 0.1216799679, 0.0265434572, 0.0835316785, 0.1068605056, 0.0639436331, 0.0998245529, 0.1370355539, 0.1950913545, 0.1223628419, 0.1219434461, 0.1598542706, 0.1686835772, 0.1717195957, 0.0879717266, 0.2130663714, 0.0775227473, 0.0464852362, 0.0228140348, 0.1096518941, 0.163666648, 0.0335494937, 0.1518832784, 0.2031972446, 0.2075945328, 0.0246314887, 0.161331804, 0.0907771258, 0.1187704918, 0.0896057961, 0.1890817763, 0.0511134435, 0.0701861045, 0.0050910344, 0.0951660102, 0.0093131458, 0.189231959, 0.2130020707, 0.0705627059, 0.1069281879, 0.1277382257, 0.056957434, 0.1501317701, 0.1861232104, 0.1481169726, 0.0389148858, 0.1337151291, 0.0085381982, 0.0495895278]\n"
    }
   ],
   "source": [
    "rand_test = rand(15, 100)\n",
    "print(rand_test)"
   ]
  },
  {
   "cell_type": "code",
   "execution_count": 18,
   "metadata": {},
   "outputs": [
    {
     "output_type": "stream",
     "name": "stdout",
     "text": "0.71\n"
    },
    {
     "output_type": "execute_result",
     "data": {
      "text/plain": "'Desaprobado'"
     },
     "metadata": {},
     "execution_count": 18
    }
   ],
   "source": [
    "ks_test(rand_test)"
   ]
  },
  {
   "cell_type": "code",
   "execution_count": 17,
   "metadata": {},
   "outputs": [],
   "source": [
    "def ks_test(data):\n",
    "\n",
    "\n",
    "    n = len(data)       # n = numero de datos\n",
    "    c = int(n ** (1/2)) # c = numero de clases\n",
    "    gl = n            # gl = grados de libertad\n",
    "    vc = (1.36/(gl ** (1/2)))    # valor critico\n",
    "\n",
    "    fe = n/c\n",
    "\n",
    "    lim_inf = 0\n",
    "    lim_sup = 0.1\n",
    "    fo = []         # frecuencias observadas\n",
    "    foa = []        #frecuencias observadas acumuladas\n",
    "    poa = []        # probabilidad observada acumulada\n",
    "\n",
    "    cont_obs_ac = 0\n",
    "    for i in range(c):\n",
    "        cont_obs = 0\n",
    "\n",
    "        for u in range(n):\n",
    "\n",
    "            if data[u] >= lim_inf and data[u] < lim_sup:\n",
    "                cont_obs += 1 \n",
    "                cont_obs_ac += 1 \n",
    "\n",
    "        lim_inf = lim_sup\n",
    "        lim_sup += 0.1\n",
    "        \n",
    "        foa.append(cont_obs_ac)\n",
    "        poa.append(cont_obs_ac/n)\n",
    "        fo.append(cont_obs)\n",
    "    \n",
    "    pea = [0.1, 0.2, 0.3, 0.4, 0.5, 0.6, 0.7, 0.8, 0.9, 1]        # probabilidad esperada acumulada\n",
    "       \n",
    "\n",
    "    dif = []\n",
    "\n",
    "    for i in range(c):\n",
    "        dif.append(abs(poa[i] - pea[i]))\n",
    "\n",
    "\n",
    "    dm = max(dif)\n",
    "    print(dm)\n",
    "\n",
    "\n",
    "    if dm <= vc:\n",
    "        rta = \"Aprobado\"\n",
    "    else:\n",
    "        rta = \"Desaprobado\"\n",
    "    \n",
    "    return rta"
   ]
  },
  {
   "cell_type": "code",
   "execution_count": 2,
   "metadata": {},
   "outputs": [
    {
     "output_type": "stream",
     "name": "stdout",
     "text": "Creating images with random colored pixels\nSaving image image_0.png\n"
    }
   ],
   "source": [
    "import random\n",
    "from PIL import Image\n",
    "\n",
    "number_of_images = 1\n",
    "image_size = (1000, 1000)\n",
    "\n",
    "print(\"Creating images with random colored pixels\")\n",
    "for i in range(number_of_images):\n",
    "    image = Image.new(\"RGB\", image_size)\n",
    "    for x in range(image_size[1]):\n",
    "        for y in range(image_size[0]):\n",
    "            rand_r = random.randint(0,255)\n",
    "            rand_g = random.randint(0,255)\n",
    "            rand_b = random.randint(0,255)\n",
    "            random_color = (rand_r, rand_g, rand_b)\n",
    "            image.putpixel((x,y), random_color)\n",
    "\n",
    "    filename = \"image_\" + str(i) + \".png\"\n",
    "    print(\"Saving image\", filename)\n",
    "    image.save(filename)"
   ]
  },
  {
   "cell_type": "code",
   "execution_count": null,
   "metadata": {},
   "outputs": [],
   "source": []
  }
 ],
 "metadata": {
  "language_info": {
   "codemirror_mode": {
    "name": "ipython",
    "version": 3
   },
   "file_extension": ".py",
   "mimetype": "text/x-python",
   "name": "python",
   "nbconvert_exporter": "python",
   "pygments_lexer": "ipython3",
   "version": "3.7.3-final"
  },
  "orig_nbformat": 2,
  "kernelspec": {
   "name": "python3",
   "display_name": "Python 3"
  }
 },
 "nbformat": 4,
 "nbformat_minor": 2
}