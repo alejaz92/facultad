{
 "cells": [
  {
   "cell_type": "code",
   "execution_count": 2,
   "metadata": {},
   "outputs": [],
   "source": [
    "import numpy as np\n",
    "from array import array\n",
    "\n",
    "class Colas(object):\n",
    "    \n",
    "    def __init__(self):\n",
    "        self.Reloj = 0.0\n",
    "        self.EstadoServidor = \"\"\n",
    "        self.ProximoEvento = \"\"\n",
    "        self.ListaDeEventos = array('f')\n",
    "        self.Cola = array('f')\n",
    "        self.TSAcumulado = 0.0\n",
    "        self.DemoraAcumulada = 0.0\n",
    "        self.NroDeClientesEnCola = 0\n",
    "        self.AreaQDeT = 0.0\n",
    "        self.TiempoUltimoEvento = 0.0\n",
    "        self.CompletaronDemora = 0\n",
    "        self.Paso = 0\n",
    "        self.TMEntreArribos = float(input('Ingrese el tiempo medio entre arribos: '))\n",
    "        self.TMDeServicio = float(input('Ingrese el tiempo medio de servicio: '))\n",
    "        self.Iniciando = False\n",
    "\n",
    "    #def inicializar(self):\n",
    "    \n",
    "    #def run(self):\n",
    "\n",
    "    #def arribos(self):\n",
    "\n",
    "    #def partidas(self):\n",
    "\n",
    "    #def tiempos(self):\n",
    "\n",
    "    #def reportes(self):\n",
    "\n",
    "def valorExponencial(media):\n",
    "        return np.random.exponential(1/media)\n",
    "\n",
    "simulacion = Colas()"
   ]
  },
  {
   "cell_type": "code",
   "execution_count": null,
   "metadata": {},
   "outputs": [],
   "source": []
  }
 ],
 "metadata": {
  "language_info": {
   "codemirror_mode": {
    "name": "ipython",
    "version": 3
   },
   "file_extension": ".py",
   "mimetype": "text/x-python",
   "name": "python",
   "nbconvert_exporter": "python",
   "pygments_lexer": "ipython3",
   "version": "3.7.3-final"
  },
  "orig_nbformat": 2,
  "kernelspec": {
   "name": "python3",
   "display_name": "Python 3"
  }
 },
 "nbformat": 4,
 "nbformat_minor": 2
}