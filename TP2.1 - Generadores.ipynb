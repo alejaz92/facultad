{
 "cells": [
  {
   "cell_type": "code",
   "execution_count": 1,
   "metadata": {},
   "outputs": [],
   "source": [
    "import numpy as np\n",
    "import matplotlib.pyplot as plt\n",
    "import pandas as pd"
   ]
  },
  {
   "cell_type": "markdown",
   "metadata": {},
   "source": [
    "### Metodo del medio del cuadrado"
   ]
  },
  {
   "cell_type": "code",
   "execution_count": 2,
   "metadata": {},
   "outputs": [],
   "source": [
    "def Middle_Square(seed, muestras):\n",
    "    print(\"Medio del Cuadrado\")\n",
    "    numlist = []\n",
    "    for i in range(muestras):\n",
    "        seedlength = len(str(seed))\n",
    "        # The value of n must be even in order for the method to work ... \n",
    "        # It is acceptable to pad the seeds with zeros to the left in order to create an even valued n-digit (eg: 540 → 0540).\n",
    "        if (seedlength % 2 != 0):  \n",
    "            seedlength += 1\n",
    "            seed = str(int(seed)).zfill(seedlength)\n",
    "\n",
    "        res = str(int(seed) * int(seed)).zfill(2 * seedlength) #fill leading zeros if seed*seed is less than (2*seed) digits long\n",
    "\n",
    "        half = int(seedlength / 2)\n",
    "        seed = res[(half):(seedlength + half)]\n",
    "\n",
    "        numlist.append(round(int(res)/100000000, 2))\n",
    "\n",
    "    return(numlist)"
   ]
  },
  {
   "cell_type": "code",
   "execution_count": 3,
   "metadata": {},
   "outputs": [
    {
     "output_type": "stream",
     "name": "stdout",
     "text": "Medio del Cuadrado\n[0.19, 0.45, 0.0, 0.0, 0.11, 0.1, 0.0, 0.0, 0.0, 0.0, 0.0, 0.01, 0.0, 0.06, 0.28, 0.09, 0.26, 0.79, 0.64, 0.03, 0.01, 0.0, 0.0, 0.06, 0.45, 0.59, 0.04, 0.82, 0.66, 0.87, 0.1, 0.4, 0.26, 0.15, 0.01, 0.03, 0.09, 0.43, 0.89, 0.49, 0.67, 0.86, 0.06, 0.03, 0.53, 0.03, 0.27, 0.31, 0.39, 0.01, 0.32, 0.41, 0.0, 0.02, 0.69, 0.19, 0.06, 0.23, 0.57, 0.47, 0.0, 0.01, 0.0, 0.14, 0.56, 0.02, 0.48, 0.37, 0.04, 0.17, 0.66, 0.37, 0.04, 0.17, 0.66, 0.37, 0.04, 0.17, 0.66, 0.37, 0.04, 0.17, 0.66, 0.37, 0.04, 0.17, 0.66, 0.37, 0.04, 0.17, 0.66, 0.37, 0.04, 0.17, 0.66, 0.37, 0.04, 0.17, 0.66, 0.37]\n"
    }
   ],
   "source": [
    "midsquare_test = Middle_Square(4321, 100)\n",
    "print(midsquare_test)"
   ]
  },
  {
   "cell_type": "code",
   "execution_count": 4,
   "metadata": {},
   "outputs": [],
   "source": [
    "from PIL import Image\n",
    "img = Image.new('RGB', (255, 255), 'black')\n",
    "pixels = img.load()\n",
    "for i in range(img.size[0]):\n",
    "    for j in range(img.size[1]):\n",
    "        pixels[i, j] = (i, j, 100)\n",
    "\n",
    "img.show()"
   ]
  },
  {
   "cell_type": "code",
   "execution_count": null,
   "metadata": {},
   "outputs": [],
   "source": []
  },
  {
   "cell_type": "markdown",
   "metadata": {},
   "source": [
    "### Metodo GCL"
   ]
  },
  {
   "cell_type": "code",
   "execution_count": 5,
   "metadata": {},
   "outputs": [],
   "source": [
    "def gcl(seed, a, c,  m, muestras):\n",
    "\n",
    "    print(\"GCL\")\n",
    "    numlist = []\n",
    "\n",
    "    for i in range(muestras):\n",
    "        X = (a * seed + c) % m\n",
    "        numlist.append(round(X/m,2))\n",
    "        seed = X\n",
    "    return(numlist)\n"
   ]
  },
  {
   "cell_type": "code",
   "execution_count": 6,
   "metadata": {},
   "outputs": [
    {
     "output_type": "stream",
     "name": "stdout",
     "text": "GCL\n[0.0, 0.01, 0.13, 0.47, 0.18, 0.96, 0.54, 0.9, 0.95, 0.45, 0.9, 0.9, 0.87, 0.62, 0.84, 0.27, 0.0, 0.02, 0.22, 0.41, 0.56, 0.14, 0.59, 0.49, 0.38, 0.22, 0.4, 0.35, 0.87, 0.54, 0.91, 0.05, 0.59, 0.44, 0.89, 0.82, 0.99, 0.87, 0.56, 0.19, 0.12, 0.29, 0.22, 0.43, 0.78, 0.61, 0.73, 0.02, 0.22, 0.43, 0.72, 0.97, 0.64, 0.01, 0.16, 0.78, 0.59, 0.52, 0.73, 0.06, 0.61, 0.73, 0.99, 0.94, 0.35, 0.87, 0.54, 0.89, 0.83, 0.14, 0.51, 0.59, 0.44, 0.86, 0.46, 0.05, 0.59, 0.54, 0.97, 0.7, 0.75, 0.21, 0.32, 0.48, 0.3, 0.25, 0.76, 0.4, 0.37, 0.06, 0.62, 0.82, 0.01, 0.1, 0.08, 0.9, 0.88, 0.65, 0.16, 0.77]\n"
    }
   ],
   "source": [
    "gcl_test = gcl(1.5**32, 11, 7, 2**32, 100)\n",
    "print(gcl_test)"
   ]
  },
  {
   "cell_type": "markdown",
   "metadata": {},
   "source": [
    "### Metodo Numpy"
   ]
  },
  {
   "cell_type": "code",
   "execution_count": 7,
   "metadata": {},
   "outputs": [],
   "source": [
    "import numpy as np \n",
    "\n",
    "def np_method(m):\n",
    "    num_list = []\n",
    "    for i in range(m):\n",
    "        res = np.random.randint(1, 10000)\n",
    "        num_list.append(round(res/10000, 2))\n",
    "    return(num_list)"
   ]
  },
  {
   "cell_type": "code",
   "execution_count": 8,
   "metadata": {},
   "outputs": [
    {
     "output_type": "stream",
     "name": "stdout",
     "text": "[0.79, 0.96, 0.13, 0.16, 0.91, 0.27, 0.76, 0.98, 0.1, 0.71, 0.02, 0.94, 0.43, 0.26, 0.94, 0.07, 0.84, 0.48, 0.26, 0.31, 0.5, 0.94, 0.55, 0.89, 0.05, 0.12, 0.09, 0.6, 0.84, 0.42, 0.57, 0.6, 0.3, 0.38, 0.64, 0.88, 0.06, 0.99, 0.38, 0.08, 0.15, 0.68, 0.76, 0.12, 0.6, 0.95, 0.14, 0.69, 0.98, 0.06, 0.44, 0.28, 0.0, 0.17, 0.85, 0.76, 0.05, 0.31, 0.59, 0.07, 0.94, 0.24, 0.12, 0.25, 0.6, 0.26, 0.56, 0.75, 0.31, 0.92, 0.7, 0.2, 0.87, 0.1, 0.49, 0.16, 0.52, 0.53, 0.55, 0.76, 0.52, 0.28, 0.98, 0.65, 0.42, 0.37, 0.3, 0.67, 0.56, 0.68, 0.18, 0.03, 0.58, 0.57, 0.72, 0.11, 0.43, 0.51, 0.98, 0.22]\n"
    }
   ],
   "source": [
    "np_test = np_method(100)\n",
    "print(np_test)"
   ]
  },
  {
   "cell_type": "markdown",
   "metadata": {},
   "source": [
    "### Muestra de numeros de Random.org"
   ]
  },
  {
   "cell_type": "code",
   "execution_count": 9,
   "metadata": {},
   "outputs": [
    {
     "output_type": "stream",
     "name": "stdout",
     "text": "[0.96, 0.85, 0.73, 0.16, 0.78, 0.21, 0.85, 0.87, 0.77, 0.54, 0.15, 0.58, 0.81, 0.66, 0.78, 0.33, 0.99, 0.23, 0.74, 0.62, 0.14, 0.3, 0.93, 0.45, 0.52, 0.31, 0.65, 0.32, 0.2, 0.16, 0.53, 0.63, 0.28, 0.76, 0.25, 0.3, 0.44, 0.75, 0.48, 0.35, 0.76, 0.43, 0.72, 0.86, 0.35, 0.67, 0.8, 0.51, 0.87, 0.12, 0.33, 0.27, 0.24, 0.65, 0.67, 0.29, 0.69, 0.35, 0.97, 0.94, 0.98, 0.98, 0.75, 0.83, 0.32, 0.41, 0.0, 0.18, 0.72, 0.57, 0.43, 0.82, 0.47, 0.02, 0.06, 0.91, 0.19, 0.03, 0.82, 0.05, 0.99, 0.99, 0.8, 0.82, 0.1, 0.96, 0.73, 0.8, 0.92, 0.99, 0.36, 0.24, 0.67, 0.92, 0.4, 0.17, 0.11, 0.4, 0.75, 0.3]\n"
    }
   ],
   "source": [
    "aux = [962,854,730,156,780,208,847,866,771,541,148,584,814,659,781,334,986,232,745,618,143,297,931,450,521,311,647,320,196,158,532,627,283,761,253,298,436,751,482,347,764,430,722,861,351,667,804,511,868,125,326,269,236,653,669,294,694,349,968,938,982,976,754,831,316,407,  1,178,725,575,426,822,469, 23, 60,906,189, 34,818, 50,994,991,801,824,101,959,726,799,923,990,364,245,672,920,403,170,113,399,753,302]\n",
    "\n",
    "random_m = []\n",
    "for i in range(len(aux)):\n",
    "    random_m.append(round(aux[i]/1000, 2))\n",
    "print(random_m)"
   ]
  },
  {
   "cell_type": "markdown",
   "metadata": {},
   "source": [
    "## Pruebas"
   ]
  },
  {
   "cell_type": "markdown",
   "metadata": {},
   "source": [
    "### Pruebas de Uniformidad"
   ]
  },
  {
   "cell_type": "markdown",
   "metadata": {},
   "source": [
    "#### Chi Cuadrado"
   ]
  },
  {
   "cell_type": "code",
   "execution_count": 11,
   "metadata": {},
   "outputs": [],
   "source": [
    "def chi_test(data):\n",
    "    from scipy.stats import chisquare\n",
    "\n",
    "    n = len(data)       # n = numero de datos\n",
    "    c = int(n ** (1/2)) # c = numero de clases\n",
    "    gl = c-1            # gl = grados de libertad\n",
    "\n",
    "    fe = n/c\n",
    "\n",
    "    lim_inf = 0\n",
    "    lim_sup = 0.1\n",
    "    fo = []         # frecuencias observadas\n",
    "\n",
    "    for i in range(c):\n",
    "        cont_obs = 0\n",
    "\n",
    "        for u in range(n):\n",
    "\n",
    "            if data[u] >= lim_inf and data[u] < lim_sup:\n",
    "                cont_obs += 1  \n",
    "\n",
    "        lim_inf = lim_sup\n",
    "        lim_sup += 0.1\n",
    "        \n",
    "        fo.append(cont_obs)\n",
    "\n",
    "\n",
    "    \n",
    "    print(fo)          \n",
    "    chi_calc = 0\n",
    "\n",
    "\n",
    "    for i in range(len(fo)):\n",
    "        #print(i)\n",
    "        chi_calc += ((fe - fo[i]) **2) / fe\n",
    "\n",
    "    print(chi_calc)\n",
    "    "
   ]
  },
  {
   "cell_type": "code",
   "execution_count": 12,
   "metadata": {},
   "outputs": [
    {
     "output_type": "stream",
     "name": "stdout",
     "text": "[12, 9, 9, 5, 12, 13, 6, 10, 12, 12]\n6.800000000000001\n"
    }
   ],
   "source": [
    "chi_test(gcl_test)"
   ]
  },
  {
   "cell_type": "code",
   "execution_count": 13,
   "metadata": {},
   "outputs": [
    {
     "output_type": "stream",
     "name": "stdout",
     "text": "[5, 10, 12, 9, 9, 6, 9, 13, 13, 14]\n8.200000000000001\n"
    }
   ],
   "source": [
    "chi_test(random_m)"
   ]
  },
  {
   "cell_type": "code",
   "execution_count": 14,
   "metadata": {},
   "outputs": [
    {
     "output_type": "stream",
     "name": "stdout",
     "text": "[11, 13, 12, 6, 7, 13, 10, 9, 6, 13]\n7.4\n"
    }
   ],
   "source": [
    "chi_test(np_test)"
   ]
  },
  {
   "cell_type": "code",
   "execution_count": 15,
   "metadata": {},
   "outputs": [
    {
     "output_type": "stream",
     "name": "stdout",
     "text": "[39, 15, 5, 12, 8, 4, 12, 1, 4, 0]\n115.6\n"
    }
   ],
   "source": [
    "chi_test(midsquare_test)"
   ]
  },
  {
   "cell_type": "markdown",
   "metadata": {},
   "source": [
    "### Kolmogorov-Smirnov test"
   ]
  },
  {
   "cell_type": "code",
   "execution_count": 23,
   "metadata": {},
   "outputs": [],
   "source": [
    "def ks_test(data):\n",
    "\n",
    "\n",
    "    n = len(data)       # n = numero de datos\n",
    "    c = int(n ** (1/2)) # c = numero de clases\n",
    "    gl = n            # gl = grados de libertad\n",
    "    vc = (1.36/(gl ** (1/2)))    # valor critico\n",
    "\n",
    "    fe = n/c\n",
    "\n",
    "    lim_inf = 0\n",
    "    lim_sup = 0.1\n",
    "    fo = []         # frecuencias observadas\n",
    "    foa = []        #frecuencias observadas acumuladas\n",
    "    poa = []        # probabilidad observada acumulada\n",
    "\n",
    "    cont_obs_ac = 0\n",
    "    for i in range(c):\n",
    "        cont_obs = 0\n",
    "\n",
    "        for u in range(n):\n",
    "\n",
    "            if data[u] >= lim_inf and data[u] < lim_sup:\n",
    "                cont_obs += 1 \n",
    "                cont_obs_ac += 1 \n",
    "\n",
    "        lim_inf = lim_sup\n",
    "        lim_sup += 0.1\n",
    "        \n",
    "        foa.append(cont_obs_ac)\n",
    "        poa.append(cont_obs_ac/n)\n",
    "        fo.append(cont_obs)\n",
    "    \n",
    "    pea = [0.1, 0.2, 0.3, 0.4, 0.5, 0.6, 0.7, 0.8, 0.9, 1]        # probabilidad esperada acumulada\n",
    "       \n",
    "\n",
    "    dif = []\n",
    "\n",
    "    for i in range(c):\n",
    "        dif.append(abs(poa[i] - pea[i]))\n",
    "\n",
    "\n",
    "    dm = max(dif)\n",
    "    print(dm)\n",
    "\n",
    "\n",
    "    if dm <= vc:\n",
    "        rta = \"Aprobado\"\n",
    "    else:\n",
    "        rta = \"Desaprobado\"\n",
    "    \n",
    "    return rta"
   ]
  },
  {
   "cell_type": "code",
   "execution_count": 150,
   "metadata": {},
   "outputs": [
    {
     "output_type": "stream",
     "name": "stdout",
     "text": "0.050000000000000044\n"
    },
    {
     "output_type": "execute_result",
     "data": {
      "text/plain": "'Aprobado'"
     },
     "metadata": {},
     "execution_count": 150
    }
   ],
   "source": [
    "ks_test(gcl_test)"
   ]
  },
  {
   "cell_type": "code",
   "execution_count": 25,
   "metadata": {},
   "outputs": [
    {
     "output_type": "stream",
     "name": "stdout",
     "text": "0.09999999999999998\n"
    },
    {
     "output_type": "execute_result",
     "data": {
      "text/plain": "'Aprobado'"
     },
     "metadata": {},
     "execution_count": 25
    }
   ],
   "source": [
    "ks_test(random_m)"
   ]
  },
  {
   "cell_type": "code",
   "execution_count": 26,
   "metadata": {},
   "outputs": [
    {
     "output_type": "stream",
     "name": "stdout",
     "text": "0.07\n"
    },
    {
     "output_type": "execute_result",
     "data": {
      "text/plain": "'Aprobado'"
     },
     "metadata": {},
     "execution_count": 26
    }
   ],
   "source": [
    "ks_test(np_test)"
   ]
  },
  {
   "cell_type": "code",
   "execution_count": 27,
   "metadata": {},
   "outputs": [
    {
     "output_type": "stream",
     "name": "stdout",
     "text": "0.34\n"
    },
    {
     "output_type": "execute_result",
     "data": {
      "text/plain": "'Desaprobado'"
     },
     "metadata": {},
     "execution_count": 27
    }
   ],
   "source": [
    "ks_test(midsquare_test)"
   ]
  },
  {
   "cell_type": "code",
   "execution_count": 28,
   "metadata": {},
   "outputs": [
    {
     "output_type": "stream",
     "name": "stdout",
     "text": "KstestResult(statistic=0.05999999999999994, pvalue=0.864282779050605)\n"
    }
   ],
   "source": [
    "from scipy.stats import kstest\n",
    "res = kstest(gcl_test, \"uniform\")\n",
    "print(res)"
   ]
  },
  {
   "cell_type": "code",
   "execution_count": 29,
   "metadata": {},
   "outputs": [
    {
     "output_type": "stream",
     "name": "stdout",
     "text": "KstestResult(statistic=0.08999999999999997, pvalue=0.37297404837101866)\n"
    }
   ],
   "source": [
    "res = kstest(np_test, \"uniform\")\n",
    "print(res)"
   ]
  },
  {
   "cell_type": "code",
   "execution_count": 30,
   "metadata": {},
   "outputs": [
    {
     "output_type": "stream",
     "name": "stdout",
     "text": "KstestResult(statistic=0.12, pvalue=0.10331653831438883)\n"
    }
   ],
   "source": [
    "res = kstest(random_m, \"uniform\")\n",
    "print(res)"
   ]
  },
  {
   "cell_type": "markdown",
   "metadata": {},
   "source": [
    "## Pruebas de independencia\n",
    "### Prueba de corridas\n",
    "#### Arriba y abajo de la media"
   ]
  },
  {
   "cell_type": "code",
   "execution_count": 51,
   "metadata": {},
   "outputs": [],
   "source": [
    "import numpy as np\n",
    "def runs_media_test(data):\n",
    "    media = 0.5\n",
    "    sec = []\n",
    "    n1 = 0          # valores +\n",
    "    n2 = 0          # valores -\n",
    "    N = len(data)   # cantidad de valores\n",
    "    Z_crit = 1.96        # debido a confianza del 95%\n",
    "\n",
    "    for i in range(N - 1):\n",
    "        if data[i] > media:\n",
    "            sec.append('+')\n",
    "            n1 += 1\n",
    "        else:\n",
    "            sec.append('-')\n",
    "            n2 += 1\n",
    "    b = 1       # nro de corridas\n",
    "\n",
    "    for i in range(len(sec)- 1):\n",
    "        if sec[i] != sec[i + 1]:\n",
    "            b += 1\n",
    "\n",
    "\n",
    "    \n",
    "    medb = ((2 * n1 * n2) / N ) + 1\n",
    "    varb = (2 * n1 * n2 * (2 * n1 * n2 - N))/((N ** 2)* (N - 1))\n",
    "\n",
    "    Z_calc = abs((b - medb) / (varb ** (1/2)))\n",
    "\n",
    "\n",
    "    if Z_calc <= Z_crit:\n",
    "        res = \"Hipotesis aceptada\"\n",
    "    else:\n",
    "        res = \"Hipotesis rechazada\"\n",
    "\n",
    "    print(Z_crit)\n",
    "    print(Z_calc)\n",
    "    \n",
    "    return res\n",
    "    \n",
    " "
   ]
  },
  {
   "cell_type": "code",
   "execution_count": 52,
   "metadata": {},
   "outputs": [
    {
     "output_type": "stream",
     "name": "stdout",
     "text": "1.96\n2.6490538750542547\n"
    },
    {
     "output_type": "execute_result",
     "data": {
      "text/plain": "'Hipotesis rechazada'"
     },
     "metadata": {},
     "execution_count": 52
    }
   ],
   "source": [
    "runs_media_test(gcl_test)"
   ]
  },
  {
   "cell_type": "code",
   "execution_count": 53,
   "metadata": {},
   "outputs": [
    {
     "output_type": "stream",
     "name": "stdout",
     "text": "1.96\n0.6154888549862174\n"
    },
    {
     "output_type": "execute_result",
     "data": {
      "text/plain": "'Hipotesis aceptada'"
     },
     "metadata": {},
     "execution_count": 53
    }
   ],
   "source": [
    "runs_media_test(np_test)"
   ]
  },
  {
   "cell_type": "code",
   "execution_count": 54,
   "metadata": {},
   "outputs": [
    {
     "output_type": "stream",
     "name": "stdout",
     "text": "1.96\n0.33237299329870124\n"
    },
    {
     "output_type": "execute_result",
     "data": {
      "text/plain": "'Hipotesis aceptada'"
     },
     "metadata": {},
     "execution_count": 54
    }
   ],
   "source": [
    "runs_media_test(random_m)"
   ]
  },
  {
   "cell_type": "markdown",
   "metadata": {},
   "source": [
    "### Test de Corridas"
   ]
  },
  {
   "cell_type": "code",
   "execution_count": 42,
   "metadata": {},
   "outputs": [],
   "source": [
    "import numpy as np\n",
    "def runs_test(data):\n",
    "    sec = []\n",
    "    n1 = 0          # valores +\n",
    "    n2 = 0          # valores -\n",
    "    N = len(data)   # cantidad de valores\n",
    "    Z_crit = 1.96        # debido a confianza del 95%\n",
    "\n",
    "    for i in range(N - 1):\n",
    "        if data[i] > data[i + 1] :\n",
    "            sec.append('+')\n",
    "            n1 += 1\n",
    "        else:\n",
    "            sec.append('-')\n",
    "            n2 += 1\n",
    "    b = 1       # nro de corridas\n",
    "\n",
    "    for i in range(len(sec)- 1):\n",
    "        if sec[i] != sec[i + 1]:\n",
    "            b += 1\n",
    "\n",
    "\n",
    "\n",
    "    \n",
    "    medb = ((2 * N) - 1) / 3\n",
    "    varb = ((16 * N) - 29) / 90\n",
    "\n",
    "    \n",
    "    Z_calc = abs((b - medb) / (varb ** (1/2) ))\n",
    "\n",
    "    if Z_calc <= Z_crit:\n",
    "        res = \"Hipotesis aceptada\"\n",
    "    else:\n",
    "        res = \"Hipotesis rechazada\"\n",
    "    print(b)\n",
    "    print(medb)\n",
    "    print(Z_crit)\n",
    "    print(Z_calc)\n",
    "    #print(b)\n",
    "    \n",
    "    return res\n",
    "    "
   ]
  },
  {
   "cell_type": "code",
   "execution_count": 44,
   "metadata": {},
   "outputs": [
    {
     "output_type": "stream",
     "name": "stdout",
     "text": "65\n66.33333333333333\n1.96\n0.319133135209338\n"
    },
    {
     "output_type": "execute_result",
     "data": {
      "text/plain": "'Hipotesis aceptada'"
     },
     "metadata": {},
     "execution_count": 44
    }
   ],
   "source": [
    "runs_test(gcl_test)"
   ]
  },
  {
   "cell_type": "code",
   "execution_count": 45,
   "metadata": {},
   "outputs": [
    {
     "output_type": "stream",
     "name": "stdout",
     "text": "67\n66.33333333333333\n1.96\n0.1595665676046707\n"
    },
    {
     "output_type": "execute_result",
     "data": {
      "text/plain": "'Hipotesis aceptada'"
     },
     "metadata": {},
     "execution_count": 45
    }
   ],
   "source": [
    "runs_test(random_m)"
   ]
  },
  {
   "cell_type": "code",
   "execution_count": 46,
   "metadata": {},
   "outputs": [
    {
     "output_type": "stream",
     "name": "stdout",
     "text": "66\n66.33333333333333\n1.96\n0.07978328380233364\n"
    },
    {
     "output_type": "execute_result",
     "data": {
      "text/plain": "'Hipotesis aceptada'"
     },
     "metadata": {},
     "execution_count": 46
    }
   ],
   "source": [
    "runs_test(np_test)"
   ]
  },
  {
   "cell_type": "markdown",
   "metadata": {},
   "source": [
    "### Prueba de Series"
   ]
  },
  {
   "cell_type": "code",
   "execution_count": 134,
   "metadata": {},
   "outputs": [],
   "source": [
    "def series_test(data):\n",
    "\n",
    "    pair= []\n",
    "    N = len(data)\n",
    "    n = 2\n",
    "    fe = N / (n ** 2)\n",
    "    chi_tab = 16.92\n",
    "\n",
    "    for i in range(N -1):\n",
    "        pair.append([data[i], data[i+1]])\n",
    "    \n",
    "    tabla = []\n",
    "    cont00 = 0\n",
    "    cont01 = 0\n",
    "    cont10 = 0\n",
    "    cont11 = 0\n",
    "\n",
    "    for i in range(len(pair)):\n",
    "        if pair[i][0] < 0.5 and pair[i][1] < 0.5:\n",
    "            cont00 += 1\n",
    "        if pair[i][0] < 0.5 and pair[i][1] >= 0.5:\n",
    "            cont01 += 1\n",
    "        if pair[i][0] >= 0.5 and pair[i][1] < 0.5:\n",
    "            cont10 += 1\n",
    "        if pair[i][0] >= 0.5 and pair[i][1] >= 0.5:\n",
    "            cont11 += 1\n",
    "    tabla.append(cont00)\n",
    "    tabla.append(cont01)\n",
    "    tabla.append(cont10)\n",
    "    tabla.append(cont11)\n",
    "\n",
    "    chi_calc = 0\n",
    "    for i in range(len(tabla)):\n",
    "        aux = ((fe - tabla[i]) ** 2) / fe\n",
    "        chi_calc += aux\n",
    "\n",
    "    print(chi_calc)\n",
    "    print(chi_tab)\n",
    "\n",
    "    if chi_calc <= chi_tab:\n",
    "        res = \"Hipotesis aceptada\"\n",
    "    else:\n",
    "        res = \"Hipotesis rechazada\"\n",
    "    print(res)\n",
    "        \n"
   ]
  },
  {
   "cell_type": "code",
   "execution_count": 136,
   "metadata": {},
   "outputs": [
    {
     "output_type": "stream",
     "name": "stdout",
     "text": "7.0\n16.92\nHipotesis aceptada\n"
    }
   ],
   "source": [
    "series_test(gcl_test)"
   ]
  },
  {
   "cell_type": "code",
   "execution_count": 137,
   "metadata": {},
   "outputs": [
    {
     "output_type": "stream",
     "name": "stdout",
     "text": "1.6400000000000001\n16.92\nHipotesis aceptada\n"
    }
   ],
   "source": [
    "series_test(np_test)"
   ]
  },
  {
   "cell_type": "code",
   "execution_count": 139,
   "metadata": {},
   "outputs": [
    {
     "output_type": "stream",
     "name": "stdout",
     "text": "2.12\n16.92\nHipotesis aceptada\n"
    }
   ],
   "source": [
    "series_test(random_m)"
   ]
  },
  {
   "cell_type": "code",
   "execution_count": 140,
   "metadata": {},
   "outputs": [
    {
     "output_type": "stream",
     "name": "stdout",
     "text": "74.60000000000001\n16.92\nHipotesis rechazada\n"
    }
   ],
   "source": [
    "series_test(midsquare_test)"
   ]
  },
  {
   "cell_type": "code",
   "execution_count": null,
   "metadata": {},
   "outputs": [],
   "source": []
  },
  {
   "cell_type": "markdown",
   "metadata": {},
   "source": [
    "### Generador de imagenes"
   ]
  },
  {
   "cell_type": "code",
   "execution_count": 14,
   "metadata": {},
   "outputs": [
    {
     "output_type": "stream",
     "name": "stdout",
     "text": "Creating images with random colored pixels\n"
    },
    {
     "output_type": "error",
     "ename": "TypeError",
     "evalue": "integer argument expected, got float",
     "traceback": [
      "\u001b[1;31m---------------------------------------------------------------------------\u001b[0m",
      "\u001b[1;31mTypeError\u001b[0m                                 Traceback (most recent call last)",
      "\u001b[1;32m<ipython-input-14-de22342fa1d4>\u001b[0m in \u001b[0;36m<module>\u001b[1;34m\u001b[0m\n\u001b[0;32m     14\u001b[0m             \u001b[0mrand_b\u001b[0m \u001b[1;33m=\u001b[0m \u001b[0mgcl_test\u001b[0m\u001b[1;33m[\u001b[0m\u001b[0my\u001b[0m\u001b[1;33m]\u001b[0m\u001b[1;33m\u001b[0m\u001b[1;33m\u001b[0m\u001b[0m\n\u001b[0;32m     15\u001b[0m             \u001b[0mrandom_color\u001b[0m \u001b[1;33m=\u001b[0m \u001b[1;33m(\u001b[0m\u001b[0mrand_r\u001b[0m\u001b[1;33m,\u001b[0m \u001b[0mrand_g\u001b[0m\u001b[1;33m,\u001b[0m \u001b[0mrand_b\u001b[0m\u001b[1;33m)\u001b[0m\u001b[1;33m\u001b[0m\u001b[1;33m\u001b[0m\u001b[0m\n\u001b[1;32m---> 16\u001b[1;33m             \u001b[0mimage\u001b[0m\u001b[1;33m.\u001b[0m\u001b[0mputpixel\u001b[0m\u001b[1;33m(\u001b[0m\u001b[1;33m(\u001b[0m\u001b[0mx\u001b[0m\u001b[1;33m,\u001b[0m\u001b[0my\u001b[0m\u001b[1;33m)\u001b[0m\u001b[1;33m,\u001b[0m \u001b[0mrandom_color\u001b[0m\u001b[1;33m)\u001b[0m\u001b[1;33m\u001b[0m\u001b[1;33m\u001b[0m\u001b[0m\n\u001b[0m\u001b[0;32m     17\u001b[0m \u001b[1;33m\u001b[0m\u001b[0m\n\u001b[0;32m     18\u001b[0m     \u001b[0mfilename\u001b[0m \u001b[1;33m=\u001b[0m \u001b[1;34m\"image_\"\u001b[0m \u001b[1;33m+\u001b[0m \u001b[0mstr\u001b[0m\u001b[1;33m(\u001b[0m\u001b[0mi\u001b[0m\u001b[1;33m)\u001b[0m \u001b[1;33m+\u001b[0m \u001b[1;34m\".png\"\u001b[0m\u001b[1;33m\u001b[0m\u001b[1;33m\u001b[0m\u001b[0m\n",
      "\u001b[1;32m~\\Anaconda3\\lib\\site-packages\\PIL\\Image.py\u001b[0m in \u001b[0;36mputpixel\u001b[1;34m(self, xy, value)\u001b[0m\n\u001b[0;32m   1681\u001b[0m             \u001b[1;31m# RGB or RGBA value for a P image\u001b[0m\u001b[1;33m\u001b[0m\u001b[1;33m\u001b[0m\u001b[1;33m\u001b[0m\u001b[0m\n\u001b[0;32m   1682\u001b[0m             \u001b[0mvalue\u001b[0m \u001b[1;33m=\u001b[0m \u001b[0mself\u001b[0m\u001b[1;33m.\u001b[0m\u001b[0mpalette\u001b[0m\u001b[1;33m.\u001b[0m\u001b[0mgetcolor\u001b[0m\u001b[1;33m(\u001b[0m\u001b[0mvalue\u001b[0m\u001b[1;33m)\u001b[0m\u001b[1;33m\u001b[0m\u001b[1;33m\u001b[0m\u001b[0m\n\u001b[1;32m-> 1683\u001b[1;33m         \u001b[1;32mreturn\u001b[0m \u001b[0mself\u001b[0m\u001b[1;33m.\u001b[0m\u001b[0mim\u001b[0m\u001b[1;33m.\u001b[0m\u001b[0mputpixel\u001b[0m\u001b[1;33m(\u001b[0m\u001b[0mxy\u001b[0m\u001b[1;33m,\u001b[0m \u001b[0mvalue\u001b[0m\u001b[1;33m)\u001b[0m\u001b[1;33m\u001b[0m\u001b[1;33m\u001b[0m\u001b[0m\n\u001b[0m\u001b[0;32m   1684\u001b[0m \u001b[1;33m\u001b[0m\u001b[0m\n\u001b[0;32m   1685\u001b[0m     \u001b[1;32mdef\u001b[0m \u001b[0mremap_palette\u001b[0m\u001b[1;33m(\u001b[0m\u001b[0mself\u001b[0m\u001b[1;33m,\u001b[0m \u001b[0mdest_map\u001b[0m\u001b[1;33m,\u001b[0m \u001b[0msource_palette\u001b[0m\u001b[1;33m=\u001b[0m\u001b[1;32mNone\u001b[0m\u001b[1;33m)\u001b[0m\u001b[1;33m:\u001b[0m\u001b[1;33m\u001b[0m\u001b[1;33m\u001b[0m\u001b[0m\n",
      "\u001b[1;31mTypeError\u001b[0m: integer argument expected, got float"
     ]
    }
   ],
   "source": [
    "import random\n",
    "from PIL import Image\n",
    "\n",
    "number_of_images = 1\n",
    "\n",
    "\n",
    "print(\"Creating images with random colored pixels\")\n",
    "for i in range(number_of_images):\n",
    "    image = Image.new(\"RGB\", image_size)\n",
    "    for x in range(len(gcl_test)):\n",
    "        for y in range(len(gcl_test)):\n",
    "            rand_r = gcl_test[y]\n",
    "            rand_g = gcl_test[y]\n",
    "            rand_b = gcl_test[y]\n",
    "            random_color = (rand_r, rand_g, rand_b)\n",
    "            image.putpixel((x,y), random_color)\n",
    "\n",
    "    filename = \"image_\" + str(i) + \".png\"\n",
    "    print(\"Saving image\", filename)\n",
    "    image.save(filename)"
   ]
  },
  {
   "cell_type": "code",
   "execution_count": null,
   "metadata": {},
   "outputs": [],
   "source": [
    "from PIL import Image\n",
    "image"
   ]
  }
 ],
 "metadata": {
  "language_info": {
   "codemirror_mode": {
    "name": "ipython",
    "version": 3
   },
   "file_extension": ".py",
   "mimetype": "text/x-python",
   "name": "python",
   "nbconvert_exporter": "python",
   "pygments_lexer": "ipython3",
   "version": "3.7.3-final"
  },
  "orig_nbformat": 2,
  "kernelspec": {
   "name": "python3",
   "display_name": "Python 3"
  }
 },
 "nbformat": 4,
 "nbformat_minor": 2
}