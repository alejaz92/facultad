{
 "cells": [
  {
   "cell_type": "code",
   "execution_count": 4,
   "metadata": {},
   "outputs": [
    {
     "output_type": "stream",
     "name": "stdout",
     "text": "Result: 126754\n"
    }
   ],
   "source": [
    "#!/usr/bin/env python\n",
    "\n",
    "import sys\n",
    "\n",
    "rounds = 100\n",
    "seed = 100000\n",
    "\n",
    "for i, arg in enumerate(sys.argv):\n",
    "  if (arg == '-h'):\n",
    "    print('middle_squares -r <rounds> -s <seed>\\n\\n<seed> - Must be a dividable by 2 (2, 4, 8, 16)')\n",
    "    exit()\n",
    "  if (arg == '-r' or arg == '--rounds'):\n",
    "    rounds = int(sys.argv[i+1])\n",
    "  if (arg == '-s' or arg == '--seed'):\n",
    "    seed = int(sys.argv[i+1])\n",
    "\n",
    "\n",
    "rand = seed\n",
    "\n",
    "for i in range(rounds):\n",
    "  squared_string = str(rand * 2)\n",
    "\n",
    "\n",
    "  sys.stdout.write(\"\\r%s\" % (rand))\n",
    "  sys.stdout.flush()\n",
    "\n",
    "\n",
    "  seed_length = len(str(seed))\n",
    "\n",
    "  start = int(len(squared_string) / 2 - seed_length / 2)\n",
    "\n",
    "  rand = int(squared_string[start:start + seed_length])\n",
    "\n",
    "\n",
    "sys.stdout.write(\"\\rResult: %s\\n\" % rand)"
   ]
  },
  {
   "cell_type": "code",
   "execution_count": 7,
   "metadata": {},
   "outputs": [],
   "source": [
    "def Middle_Square(seed, listlength):\n",
    "    print(\"Middle_Square\")\n",
    "    numlist = []\n",
    "    for i in range(listlength):\n",
    "        seedlength = len(str(seed))\n",
    "        # The value of n must be even in order for the method to work ... \n",
    "        # It is acceptable to pad the seeds with zeros to the left in order to create an even valued n-digit (eg: 540 → 0540).\n",
    "        if (seedlength % 2 != 0):  \n",
    "            seedlength += 1\n",
    "            seed = str(int(seed)).zfill(seedlength)\n",
    "        #print(\"seedlen\", seedlength)\n",
    "        seed = str(int(seed) * int(seed)).zfill(2 * seedlength) #fill leading zeros if seed*seed is less than (2*seed) digits long\n",
    "        #print(\"newseed\", seed)\n",
    "        half = int(seedlength / 2)\n",
    "        seed = seed[(half):(seedlength + half)]\n",
    "        #print(\"finalseed\", seed)\n",
    "        #print(seed)\n",
    "        numlist.append(seed)\n",
    "    #print(numlist)\n",
    "    return(numlist)"
   ]
  },
  {
   "cell_type": "code",
   "execution_count": 11,
   "metadata": {},
   "outputs": [
    {
     "output_type": "stream",
     "name": "stdout",
     "text": "Middle_Square\n"
    },
    {
     "output_type": "execute_result",
     "data": {
      "text/plain": "['0000',\n '0000',\n '0000',\n '0000',\n '0000',\n '0000',\n '0000',\n '0000',\n '0000',\n '0000',\n '0000',\n '0000',\n '0000',\n '0000',\n '0000',\n '0000',\n '0000',\n '0000',\n '0000',\n '0000',\n '0000',\n '0000',\n '0000',\n '0000',\n '0000',\n '0000',\n '0000',\n '0000',\n '0000',\n '0000',\n '0000',\n '0000',\n '0000',\n '0000',\n '0000',\n '0000',\n '0000',\n '0000',\n '0000',\n '0000',\n '0000',\n '0000',\n '0000',\n '0000',\n '0000',\n '0000',\n '0000',\n '0000',\n '0000',\n '0000',\n '0000',\n '0000',\n '0000',\n '0000',\n '0000',\n '0000',\n '0000',\n '0000',\n '0000',\n '0000',\n '0000',\n '0000',\n '0000',\n '0000',\n '0000',\n '0000',\n '0000',\n '0000',\n '0000',\n '0000',\n '0000',\n '0000',\n '0000',\n '0000',\n '0000',\n '0000',\n '0000',\n '0000',\n '0000',\n '0000',\n '0000',\n '0000',\n '0000',\n '0000',\n '0000',\n '0000',\n '0000',\n '0000',\n '0000',\n '0000',\n '0000',\n '0000',\n '0000',\n '0000',\n '0000',\n '0000',\n '0000',\n '0000',\n '0000',\n '0000']"
     },
     "metadata": {},
     "execution_count": 11
    }
   ],
   "source": [
    "Middle_Square(1000, 100)"
   ]
  },
  {
   "cell_type": "code",
   "execution_count": null,
   "metadata": {},
   "outputs": [],
   "source": []
  }
 ],
 "metadata": {
  "language_info": {
   "codemirror_mode": {
    "name": "ipython",
    "version": 3
   },
   "file_extension": ".py",
   "mimetype": "text/x-python",
   "name": "python",
   "nbconvert_exporter": "python",
   "pygments_lexer": "ipython3",
   "version": "3.7.3-final"
  },
  "orig_nbformat": 2,
  "kernelspec": {
   "name": "python3",
   "display_name": "Python 3"
  }
 },
 "nbformat": 4,
 "nbformat_minor": 2
}